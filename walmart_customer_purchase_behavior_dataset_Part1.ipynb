{
 "cells": [
  {
   "cell_type": "markdown",
   "id": "54e19941-bb34-4403-9c45-630688081cfe",
   "metadata": {},
   "source": [
    "<h1>Walmart Customer Purchase Behavior Dataset - Data Cleaning</h1>"
   ]
  },
  {
   "cell_type": "markdown",
   "id": "3eca5dc7-8424-4821-ab59-1b2d6967c7e4",
   "metadata": {},
   "source": [
    "<h2>Data Cleaning</h2>"
   ]
  },
  {
   "cell_type": "markdown",
   "id": "8f3a3996-129b-4bb1-bec0-c501124ca989",
   "metadata": {},
   "source": [
    "<h3>About Dataset</h3>"
   ]
  },
  {
   "cell_type": "markdown",
   "id": "a0179d2b-0236-4cbd-8d6f-11e78bfec2cc",
   "metadata": {},
   "source": [
    "<h5>This dataset contains 50,000 customer transactions from Walmart, capturing essential details about consumer shopping behavior. It includes demographic information, product categories, purchase amounts, discounts, and ratings, making it useful for data analysis, customer segmentation, and sales forecasting.  <br><br>\n",
    "\n",
    "Source: <a href=\"https://www.kaggle.com/datasets/logiccraftbyhimanshi/walmart-customer-purchase-behavior-dataset\" target=\"_blank\">Dataset source </a>  \n",
    "    \n",
    "</h5>"
   ]
  },
  {
   "cell_type": "markdown",
   "id": "cc0c1e0a-c23f-439b-a40c-e01e8ebb616e",
   "metadata": {},
   "source": [
    "<h4>Import and load the data</h4>"
   ]
  },
  {
   "cell_type": "code",
   "execution_count": 1866,
   "id": "6ac52d96-061c-4caa-b009-f13b26ea275a",
   "metadata": {},
   "outputs": [],
   "source": [
    "#Import the libraries\n",
    "import pandas as pd"
   ]
  },
  {
   "cell_type": "code",
   "execution_count": 1867,
   "id": "755fce6d-3951-4cd5-b5c3-f13759de7b95",
   "metadata": {},
   "outputs": [
    {
     "data": {
      "text/html": [
       "<div>\n",
       "<style scoped>\n",
       "    .dataframe tbody tr th:only-of-type {\n",
       "        vertical-align: middle;\n",
       "    }\n",
       "\n",
       "    .dataframe tbody tr th {\n",
       "        vertical-align: top;\n",
       "    }\n",
       "\n",
       "    .dataframe thead th {\n",
       "        text-align: right;\n",
       "    }\n",
       "</style>\n",
       "<table border=\"1\" class=\"dataframe\">\n",
       "  <thead>\n",
       "    <tr style=\"text-align: right;\">\n",
       "      <th></th>\n",
       "      <th>Customer_ID</th>\n",
       "      <th>Age</th>\n",
       "      <th>Gender</th>\n",
       "      <th>City</th>\n",
       "      <th>Category</th>\n",
       "      <th>Product_Name</th>\n",
       "      <th>Purchase_Date</th>\n",
       "      <th>Purchase_Amount</th>\n",
       "      <th>Payment_Method</th>\n",
       "      <th>Discount_Applied</th>\n",
       "      <th>Rating</th>\n",
       "      <th>Repeat_Customer</th>\n",
       "    </tr>\n",
       "  </thead>\n",
       "  <tbody>\n",
       "    <tr>\n",
       "      <th>0</th>\n",
       "      <td>84607c1f-910c-44d5-b89f-e1ee06dd34c0</td>\n",
       "      <td>49</td>\n",
       "      <td>Female</td>\n",
       "      <td>New Cynthia</td>\n",
       "      <td>Electronics</td>\n",
       "      <td>Smartphone</td>\n",
       "      <td>2024-08-30</td>\n",
       "      <td>253.26</td>\n",
       "      <td>Cash on Delivery</td>\n",
       "      <td>No</td>\n",
       "      <td>1</td>\n",
       "      <td>Yes</td>\n",
       "    </tr>\n",
       "    <tr>\n",
       "      <th>1</th>\n",
       "      <td>f2a81712-a73e-4424-8b39-4c615a0bd4ea</td>\n",
       "      <td>36</td>\n",
       "      <td>Other</td>\n",
       "      <td>Cruzport</td>\n",
       "      <td>Clothing</td>\n",
       "      <td>T-Shirt</td>\n",
       "      <td>2024-12-21</td>\n",
       "      <td>73.19</td>\n",
       "      <td>Debit Card</td>\n",
       "      <td>Yes</td>\n",
       "      <td>1</td>\n",
       "      <td>No</td>\n",
       "    </tr>\n",
       "    <tr>\n",
       "      <th>2</th>\n",
       "      <td>da9be287-8b0e-4688-bccd-1a2cdd7567c6</td>\n",
       "      <td>52</td>\n",
       "      <td>Male</td>\n",
       "      <td>Jeffreytown</td>\n",
       "      <td>Beauty</td>\n",
       "      <td>Perfume</td>\n",
       "      <td>2024-12-26</td>\n",
       "      <td>125.62</td>\n",
       "      <td>Credit Card</td>\n",
       "      <td>Yes</td>\n",
       "      <td>1</td>\n",
       "      <td>No</td>\n",
       "    </tr>\n",
       "    <tr>\n",
       "      <th>3</th>\n",
       "      <td>50ec6932-3ac7-492f-9e55-4b148212f302</td>\n",
       "      <td>47</td>\n",
       "      <td>Female</td>\n",
       "      <td>Jenniferburgh</td>\n",
       "      <td>Electronics</td>\n",
       "      <td>Smartwatch</td>\n",
       "      <td>2024-11-04</td>\n",
       "      <td>450.32</td>\n",
       "      <td>Credit Card</td>\n",
       "      <td>No</td>\n",
       "      <td>2</td>\n",
       "      <td>Yes</td>\n",
       "    </tr>\n",
       "    <tr>\n",
       "      <th>4</th>\n",
       "      <td>8fdc3098-fc75-4b0f-983c-d8d8168c6362</td>\n",
       "      <td>43</td>\n",
       "      <td>Other</td>\n",
       "      <td>Kingshire</td>\n",
       "      <td>Electronics</td>\n",
       "      <td>Smartphone</td>\n",
       "      <td>2024-10-07</td>\n",
       "      <td>369.28</td>\n",
       "      <td>Credit Card</td>\n",
       "      <td>Yes</td>\n",
       "      <td>2</td>\n",
       "      <td>Yes</td>\n",
       "    </tr>\n",
       "    <tr>\n",
       "      <th>...</th>\n",
       "      <td>...</td>\n",
       "      <td>...</td>\n",
       "      <td>...</td>\n",
       "      <td>...</td>\n",
       "      <td>...</td>\n",
       "      <td>...</td>\n",
       "      <td>...</td>\n",
       "      <td>...</td>\n",
       "      <td>...</td>\n",
       "      <td>...</td>\n",
       "      <td>...</td>\n",
       "      <td>...</td>\n",
       "    </tr>\n",
       "    <tr>\n",
       "      <th>49995</th>\n",
       "      <td>80853da9-ef96-4c83-9191-bc872c3968a9</td>\n",
       "      <td>48</td>\n",
       "      <td>Male</td>\n",
       "      <td>Barbaramouth</td>\n",
       "      <td>Electronics</td>\n",
       "      <td>Laptop</td>\n",
       "      <td>2024-11-18</td>\n",
       "      <td>391.48</td>\n",
       "      <td>Debit Card</td>\n",
       "      <td>No</td>\n",
       "      <td>5</td>\n",
       "      <td>No</td>\n",
       "    </tr>\n",
       "    <tr>\n",
       "      <th>49996</th>\n",
       "      <td>97df1ed3-4041-474c-8ce8-958c816fc30a</td>\n",
       "      <td>51</td>\n",
       "      <td>Female</td>\n",
       "      <td>Troyshire</td>\n",
       "      <td>Beauty</td>\n",
       "      <td>Perfume</td>\n",
       "      <td>2024-11-19</td>\n",
       "      <td>272.09</td>\n",
       "      <td>Cash on Delivery</td>\n",
       "      <td>Yes</td>\n",
       "      <td>1</td>\n",
       "      <td>No</td>\n",
       "    </tr>\n",
       "    <tr>\n",
       "      <th>49997</th>\n",
       "      <td>948efe87-82a3-4a38-9dd6-30d44ad6f879</td>\n",
       "      <td>51</td>\n",
       "      <td>Male</td>\n",
       "      <td>South Rachel</td>\n",
       "      <td>Home</td>\n",
       "      <td>Curtains</td>\n",
       "      <td>2024-02-11</td>\n",
       "      <td>280.81</td>\n",
       "      <td>Debit Card</td>\n",
       "      <td>Yes</td>\n",
       "      <td>2</td>\n",
       "      <td>No</td>\n",
       "    </tr>\n",
       "    <tr>\n",
       "      <th>49998</th>\n",
       "      <td>9804d52f-35cd-4af3-a9e3-cbb8367396f0</td>\n",
       "      <td>33</td>\n",
       "      <td>Other</td>\n",
       "      <td>Courtneyville</td>\n",
       "      <td>Beauty</td>\n",
       "      <td>Shampoo</td>\n",
       "      <td>2024-08-31</td>\n",
       "      <td>140.74</td>\n",
       "      <td>Debit Card</td>\n",
       "      <td>No</td>\n",
       "      <td>2</td>\n",
       "      <td>No</td>\n",
       "    </tr>\n",
       "    <tr>\n",
       "      <th>49999</th>\n",
       "      <td>a7f2b17c-f5c8-46a5-9322-319c4a2772ca</td>\n",
       "      <td>18</td>\n",
       "      <td>Other</td>\n",
       "      <td>Norrisland</td>\n",
       "      <td>Beauty</td>\n",
       "      <td>Perfume</td>\n",
       "      <td>2024-09-18</td>\n",
       "      <td>18.90</td>\n",
       "      <td>Credit Card</td>\n",
       "      <td>No</td>\n",
       "      <td>4</td>\n",
       "      <td>No</td>\n",
       "    </tr>\n",
       "  </tbody>\n",
       "</table>\n",
       "<p>50000 rows × 12 columns</p>\n",
       "</div>"
      ],
      "text/plain": [
       "                                Customer_ID  Age  Gender           City  \\\n",
       "0      84607c1f-910c-44d5-b89f-e1ee06dd34c0   49  Female    New Cynthia   \n",
       "1      f2a81712-a73e-4424-8b39-4c615a0bd4ea   36   Other       Cruzport   \n",
       "2      da9be287-8b0e-4688-bccd-1a2cdd7567c6   52    Male    Jeffreytown   \n",
       "3      50ec6932-3ac7-492f-9e55-4b148212f302   47  Female  Jenniferburgh   \n",
       "4      8fdc3098-fc75-4b0f-983c-d8d8168c6362   43   Other      Kingshire   \n",
       "...                                     ...  ...     ...            ...   \n",
       "49995  80853da9-ef96-4c83-9191-bc872c3968a9   48    Male   Barbaramouth   \n",
       "49996  97df1ed3-4041-474c-8ce8-958c816fc30a   51  Female      Troyshire   \n",
       "49997  948efe87-82a3-4a38-9dd6-30d44ad6f879   51    Male   South Rachel   \n",
       "49998  9804d52f-35cd-4af3-a9e3-cbb8367396f0   33   Other  Courtneyville   \n",
       "49999  a7f2b17c-f5c8-46a5-9322-319c4a2772ca   18   Other     Norrisland   \n",
       "\n",
       "          Category Product_Name Purchase_Date  Purchase_Amount  \\\n",
       "0      Electronics   Smartphone    2024-08-30           253.26   \n",
       "1         Clothing      T-Shirt    2024-12-21            73.19   \n",
       "2           Beauty      Perfume    2024-12-26           125.62   \n",
       "3      Electronics   Smartwatch    2024-11-04           450.32   \n",
       "4      Electronics   Smartphone    2024-10-07           369.28   \n",
       "...            ...          ...           ...              ...   \n",
       "49995  Electronics       Laptop    2024-11-18           391.48   \n",
       "49996       Beauty      Perfume    2024-11-19           272.09   \n",
       "49997         Home     Curtains    2024-02-11           280.81   \n",
       "49998       Beauty      Shampoo    2024-08-31           140.74   \n",
       "49999       Beauty      Perfume    2024-09-18            18.90   \n",
       "\n",
       "         Payment_Method Discount_Applied  Rating Repeat_Customer  \n",
       "0      Cash on Delivery               No       1             Yes  \n",
       "1            Debit Card              Yes       1              No  \n",
       "2           Credit Card              Yes       1              No  \n",
       "3           Credit Card               No       2             Yes  \n",
       "4           Credit Card              Yes       2             Yes  \n",
       "...                 ...              ...     ...             ...  \n",
       "49995        Debit Card               No       5              No  \n",
       "49996  Cash on Delivery              Yes       1              No  \n",
       "49997        Debit Card              Yes       2              No  \n",
       "49998        Debit Card               No       2              No  \n",
       "49999       Credit Card               No       4              No  \n",
       "\n",
       "[50000 rows x 12 columns]"
      ]
     },
     "execution_count": 1867,
     "metadata": {},
     "output_type": "execute_result"
    }
   ],
   "source": [
    "#Import and read the data\n",
    "walmart_df=pd.read_csv(r\"/Users/pkv/Desktop/Seema/kaggle/Python/WalmartCustomerPurchase/Walmart_customer_purchases.csv\")\n",
    "walmart_df"
   ]
  },
  {
   "cell_type": "markdown",
   "id": "7bb2eadb-6473-4f4a-8065-cbc0e6623253",
   "metadata": {},
   "source": [
    "<h4>Inspect the dataframe</h4>"
   ]
  },
  {
   "cell_type": "code",
   "execution_count": 1869,
   "id": "9341819a-d3f7-4968-8975-4b9ab7ded223",
   "metadata": {},
   "outputs": [
    {
     "data": {
      "text/plain": [
       "(50000, 12)"
      ]
     },
     "execution_count": 1869,
     "metadata": {},
     "output_type": "execute_result"
    }
   ],
   "source": [
    "#Check the number of rows and columns in the dataframe\n",
    "walmart_df.shape"
   ]
  },
  {
   "cell_type": "code",
   "execution_count": 1870,
   "id": "3e240d0c-fbb6-4261-b956-d6d9753f0ec1",
   "metadata": {},
   "outputs": [
    {
     "data": {
      "text/plain": [
       "Index(['Customer_ID', 'Age', 'Gender', 'City', 'Category', 'Product_Name',\n",
       "       'Purchase_Date', 'Purchase_Amount', 'Payment_Method',\n",
       "       'Discount_Applied', 'Rating', 'Repeat_Customer'],\n",
       "      dtype='object')"
      ]
     },
     "execution_count": 1870,
     "metadata": {},
     "output_type": "execute_result"
    }
   ],
   "source": [
    "walmart_df.columns"
   ]
  },
  {
   "cell_type": "markdown",
   "id": "b1d6a180-6359-45db-9815-52c93a5ce276",
   "metadata": {},
   "source": [
    "<b>This dataset has 50,000 records and 12 columns.</b>"
   ]
  },
  {
   "cell_type": "code",
   "execution_count": 1872,
   "id": "08f9aa30-a6ee-47e4-90f7-9aa3899391a7",
   "metadata": {},
   "outputs": [
    {
     "name": "stdout",
     "output_type": "stream",
     "text": [
      "<class 'pandas.core.frame.DataFrame'>\n",
      "RangeIndex: 50000 entries, 0 to 49999\n",
      "Data columns (total 12 columns):\n",
      " #   Column            Non-Null Count  Dtype  \n",
      "---  ------            --------------  -----  \n",
      " 0   Customer_ID       50000 non-null  object \n",
      " 1   Age               50000 non-null  int64  \n",
      " 2   Gender            50000 non-null  object \n",
      " 3   City              50000 non-null  object \n",
      " 4   Category          50000 non-null  object \n",
      " 5   Product_Name      50000 non-null  object \n",
      " 6   Purchase_Date     50000 non-null  object \n",
      " 7   Purchase_Amount   50000 non-null  float64\n",
      " 8   Payment_Method    50000 non-null  object \n",
      " 9   Discount_Applied  50000 non-null  object \n",
      " 10  Rating            50000 non-null  int64  \n",
      " 11  Repeat_Customer   50000 non-null  object \n",
      "dtypes: float64(1), int64(2), object(9)\n",
      "memory usage: 4.6+ MB\n"
     ]
    }
   ],
   "source": [
    "# Check the column-wise info of the dataframe\n",
    "walmart_df.info()"
   ]
  },
  {
   "cell_type": "code",
   "execution_count": 1873,
   "id": "d2f86507-7d2b-497a-b56e-987ce314c3f3",
   "metadata": {},
   "outputs": [
    {
     "data": {
      "text/plain": [
       "Customer_ID         0\n",
       "Age                 0\n",
       "Gender              0\n",
       "City                0\n",
       "Category            0\n",
       "Product_Name        0\n",
       "Purchase_Date       0\n",
       "Purchase_Amount     0\n",
       "Payment_Method      0\n",
       "Discount_Applied    0\n",
       "Rating              0\n",
       "Repeat_Customer     0\n",
       "dtype: int64"
      ]
     },
     "execution_count": 1873,
     "metadata": {},
     "output_type": "execute_result"
    }
   ],
   "source": [
    "#Check if any null in the columns\n",
    "walmart_df.isnull().sum()"
   ]
  },
  {
   "cell_type": "markdown",
   "id": "945673df-0229-4a51-9d9b-264f52f30f73",
   "metadata": {},
   "source": [
    "<b>There are no missing values(null) in this dataset.</b>"
   ]
  },
  {
   "cell_type": "code",
   "execution_count": 1875,
   "id": "5afc6580-eedb-4a4d-aa59-1c39fd31be4b",
   "metadata": {},
   "outputs": [
    {
     "data": {
      "text/html": [
       "<div>\n",
       "<style scoped>\n",
       "    .dataframe tbody tr th:only-of-type {\n",
       "        vertical-align: middle;\n",
       "    }\n",
       "\n",
       "    .dataframe tbody tr th {\n",
       "        vertical-align: top;\n",
       "    }\n",
       "\n",
       "    .dataframe thead th {\n",
       "        text-align: right;\n",
       "    }\n",
       "</style>\n",
       "<table border=\"1\" class=\"dataframe\">\n",
       "  <thead>\n",
       "    <tr style=\"text-align: right;\">\n",
       "      <th></th>\n",
       "      <th>Customer_ID</th>\n",
       "      <th>Age</th>\n",
       "      <th>Gender</th>\n",
       "      <th>City</th>\n",
       "      <th>Category</th>\n",
       "      <th>Product_Name</th>\n",
       "      <th>Purchase_Date</th>\n",
       "      <th>Purchase_Amount</th>\n",
       "      <th>Payment_Method</th>\n",
       "      <th>Discount_Applied</th>\n",
       "      <th>Rating</th>\n",
       "      <th>Repeat_Customer</th>\n",
       "    </tr>\n",
       "  </thead>\n",
       "  <tbody>\n",
       "    <tr>\n",
       "      <th>count</th>\n",
       "      <td>50000</td>\n",
       "      <td>50000.000000</td>\n",
       "      <td>50000</td>\n",
       "      <td>50000</td>\n",
       "      <td>50000</td>\n",
       "      <td>50000</td>\n",
       "      <td>50000</td>\n",
       "      <td>50000.000000</td>\n",
       "      <td>50000</td>\n",
       "      <td>50000</td>\n",
       "      <td>50000.000000</td>\n",
       "      <td>50000</td>\n",
       "    </tr>\n",
       "    <tr>\n",
       "      <th>unique</th>\n",
       "      <td>50000</td>\n",
       "      <td>NaN</td>\n",
       "      <td>3</td>\n",
       "      <td>25096</td>\n",
       "      <td>4</td>\n",
       "      <td>16</td>\n",
       "      <td>366</td>\n",
       "      <td>NaN</td>\n",
       "      <td>4</td>\n",
       "      <td>2</td>\n",
       "      <td>NaN</td>\n",
       "      <td>2</td>\n",
       "    </tr>\n",
       "    <tr>\n",
       "      <th>top</th>\n",
       "      <td>84607c1f-910c-44d5-b89f-e1ee06dd34c0</td>\n",
       "      <td>NaN</td>\n",
       "      <td>Other</td>\n",
       "      <td>New Michael</td>\n",
       "      <td>Electronics</td>\n",
       "      <td>Headphones</td>\n",
       "      <td>2024-12-25</td>\n",
       "      <td>NaN</td>\n",
       "      <td>Debit Card</td>\n",
       "      <td>No</td>\n",
       "      <td>NaN</td>\n",
       "      <td>Yes</td>\n",
       "    </tr>\n",
       "    <tr>\n",
       "      <th>freq</th>\n",
       "      <td>1</td>\n",
       "      <td>NaN</td>\n",
       "      <td>16751</td>\n",
       "      <td>44</td>\n",
       "      <td>12642</td>\n",
       "      <td>3261</td>\n",
       "      <td>171</td>\n",
       "      <td>NaN</td>\n",
       "      <td>12589</td>\n",
       "      <td>25018</td>\n",
       "      <td>NaN</td>\n",
       "      <td>25244</td>\n",
       "    </tr>\n",
       "    <tr>\n",
       "      <th>mean</th>\n",
       "      <td>NaN</td>\n",
       "      <td>38.945220</td>\n",
       "      <td>NaN</td>\n",
       "      <td>NaN</td>\n",
       "      <td>NaN</td>\n",
       "      <td>NaN</td>\n",
       "      <td>NaN</td>\n",
       "      <td>255.532230</td>\n",
       "      <td>NaN</td>\n",
       "      <td>NaN</td>\n",
       "      <td>2.998680</td>\n",
       "      <td>NaN</td>\n",
       "    </tr>\n",
       "    <tr>\n",
       "      <th>std</th>\n",
       "      <td>NaN</td>\n",
       "      <td>12.398137</td>\n",
       "      <td>NaN</td>\n",
       "      <td>NaN</td>\n",
       "      <td>NaN</td>\n",
       "      <td>NaN</td>\n",
       "      <td>NaN</td>\n",
       "      <td>141.574416</td>\n",
       "      <td>NaN</td>\n",
       "      <td>NaN</td>\n",
       "      <td>1.417956</td>\n",
       "      <td>NaN</td>\n",
       "    </tr>\n",
       "    <tr>\n",
       "      <th>min</th>\n",
       "      <td>NaN</td>\n",
       "      <td>18.000000</td>\n",
       "      <td>NaN</td>\n",
       "      <td>NaN</td>\n",
       "      <td>NaN</td>\n",
       "      <td>NaN</td>\n",
       "      <td>NaN</td>\n",
       "      <td>10.010000</td>\n",
       "      <td>NaN</td>\n",
       "      <td>NaN</td>\n",
       "      <td>1.000000</td>\n",
       "      <td>NaN</td>\n",
       "    </tr>\n",
       "    <tr>\n",
       "      <th>25%</th>\n",
       "      <td>NaN</td>\n",
       "      <td>28.000000</td>\n",
       "      <td>NaN</td>\n",
       "      <td>NaN</td>\n",
       "      <td>NaN</td>\n",
       "      <td>NaN</td>\n",
       "      <td>NaN</td>\n",
       "      <td>133.050000</td>\n",
       "      <td>NaN</td>\n",
       "      <td>NaN</td>\n",
       "      <td>2.000000</td>\n",
       "      <td>NaN</td>\n",
       "    </tr>\n",
       "    <tr>\n",
       "      <th>50%</th>\n",
       "      <td>NaN</td>\n",
       "      <td>39.000000</td>\n",
       "      <td>NaN</td>\n",
       "      <td>NaN</td>\n",
       "      <td>NaN</td>\n",
       "      <td>NaN</td>\n",
       "      <td>NaN</td>\n",
       "      <td>255.045000</td>\n",
       "      <td>NaN</td>\n",
       "      <td>NaN</td>\n",
       "      <td>3.000000</td>\n",
       "      <td>NaN</td>\n",
       "    </tr>\n",
       "    <tr>\n",
       "      <th>75%</th>\n",
       "      <td>NaN</td>\n",
       "      <td>50.000000</td>\n",
       "      <td>NaN</td>\n",
       "      <td>NaN</td>\n",
       "      <td>NaN</td>\n",
       "      <td>NaN</td>\n",
       "      <td>NaN</td>\n",
       "      <td>378.912500</td>\n",
       "      <td>NaN</td>\n",
       "      <td>NaN</td>\n",
       "      <td>4.000000</td>\n",
       "      <td>NaN</td>\n",
       "    </tr>\n",
       "    <tr>\n",
       "      <th>max</th>\n",
       "      <td>NaN</td>\n",
       "      <td>60.000000</td>\n",
       "      <td>NaN</td>\n",
       "      <td>NaN</td>\n",
       "      <td>NaN</td>\n",
       "      <td>NaN</td>\n",
       "      <td>NaN</td>\n",
       "      <td>499.990000</td>\n",
       "      <td>NaN</td>\n",
       "      <td>NaN</td>\n",
       "      <td>5.000000</td>\n",
       "      <td>NaN</td>\n",
       "    </tr>\n",
       "  </tbody>\n",
       "</table>\n",
       "</div>"
      ],
      "text/plain": [
       "                                 Customer_ID           Age Gender  \\\n",
       "count                                  50000  50000.000000  50000   \n",
       "unique                                 50000           NaN      3   \n",
       "top     84607c1f-910c-44d5-b89f-e1ee06dd34c0           NaN  Other   \n",
       "freq                                       1           NaN  16751   \n",
       "mean                                     NaN     38.945220    NaN   \n",
       "std                                      NaN     12.398137    NaN   \n",
       "min                                      NaN     18.000000    NaN   \n",
       "25%                                      NaN     28.000000    NaN   \n",
       "50%                                      NaN     39.000000    NaN   \n",
       "75%                                      NaN     50.000000    NaN   \n",
       "max                                      NaN     60.000000    NaN   \n",
       "\n",
       "               City     Category Product_Name Purchase_Date  Purchase_Amount  \\\n",
       "count         50000        50000        50000         50000     50000.000000   \n",
       "unique        25096            4           16           366              NaN   \n",
       "top     New Michael  Electronics   Headphones    2024-12-25              NaN   \n",
       "freq             44        12642         3261           171              NaN   \n",
       "mean            NaN          NaN          NaN           NaN       255.532230   \n",
       "std             NaN          NaN          NaN           NaN       141.574416   \n",
       "min             NaN          NaN          NaN           NaN        10.010000   \n",
       "25%             NaN          NaN          NaN           NaN       133.050000   \n",
       "50%             NaN          NaN          NaN           NaN       255.045000   \n",
       "75%             NaN          NaN          NaN           NaN       378.912500   \n",
       "max             NaN          NaN          NaN           NaN       499.990000   \n",
       "\n",
       "       Payment_Method Discount_Applied        Rating Repeat_Customer  \n",
       "count           50000            50000  50000.000000           50000  \n",
       "unique              4                2           NaN               2  \n",
       "top        Debit Card               No           NaN             Yes  \n",
       "freq            12589            25018           NaN           25244  \n",
       "mean              NaN              NaN      2.998680             NaN  \n",
       "std               NaN              NaN      1.417956             NaN  \n",
       "min               NaN              NaN      1.000000             NaN  \n",
       "25%               NaN              NaN      2.000000             NaN  \n",
       "50%               NaN              NaN      3.000000             NaN  \n",
       "75%               NaN              NaN      4.000000             NaN  \n",
       "max               NaN              NaN      5.000000             NaN  "
      ]
     },
     "execution_count": 1875,
     "metadata": {},
     "output_type": "execute_result"
    }
   ],
   "source": [
    "#Get the summay statistics of the dataframe\n",
    "walmart_df.describe(include=\"all\")"
   ]
  },
  {
   "cell_type": "code",
   "execution_count": 1876,
   "id": "d69e7064-d9d8-408b-b418-da76fae2b3f9",
   "metadata": {},
   "outputs": [
    {
     "data": {
      "text/plain": [
       "50000"
      ]
     },
     "execution_count": 1876,
     "metadata": {},
     "output_type": "execute_result"
    }
   ],
   "source": [
    "walmart_df['Customer_ID'].nunique()"
   ]
  },
  {
   "cell_type": "markdown",
   "id": "b3cb5db8-9e92-4906-933a-24508a8b1d09",
   "metadata": {},
   "source": [
    "<b>Customer_ID</b> is unique field"
   ]
  },
  {
   "cell_type": "markdown",
   "id": "b685988e-aaab-4bde-9fe9-20f8c3f4bbeb",
   "metadata": {},
   "source": [
    "<h5><b>Inspect Age column</b></h5>"
   ]
  },
  {
   "cell_type": "code",
   "execution_count": 1879,
   "id": "fcaf8f5b-ce1a-4336-8556-fbd682b2eef6",
   "metadata": {},
   "outputs": [
    {
     "name": "stdout",
     "output_type": "stream",
     "text": [
      "[49 36 52 47 43 59 23 60 41 54 37 27 58 18 21 42 25 26 30 33 50 19 48 51\n",
      " 39 46 29 45 32 34 22 44 40 56 35 57 28 55 20 24 38 31 53]\n"
     ]
    },
    {
     "data": {
      "text/plain": [
       "43"
      ]
     },
     "execution_count": 1879,
     "metadata": {},
     "output_type": "execute_result"
    }
   ],
   "source": [
    "#Inspect Age column -- unique values \n",
    "print(walmart_df['Age'].unique())\n",
    "#Age Unique value count\n",
    "walmart_df['Age'].nunique()"
   ]
  },
  {
   "cell_type": "markdown",
   "id": "0aed49a3-ca91-4858-8792-9e273d385a81",
   "metadata": {},
   "source": [
    "All the values appear to be valid, so the <b>Age</b> column does not require any cleaning."
   ]
  },
  {
   "cell_type": "markdown",
   "id": "c3815cbc-d325-41ca-a223-052483b98c1d",
   "metadata": {},
   "source": [
    "<h5><b>Inspect Gender column</b></h5>"
   ]
  },
  {
   "cell_type": "code",
   "execution_count": 1882,
   "id": "0509baed-ca78-45f2-9867-a83b9d3f957b",
   "metadata": {},
   "outputs": [
    {
     "name": "stdout",
     "output_type": "stream",
     "text": [
      "['Female' 'Other' 'Male']\n",
      "3\n",
      "Gender\n",
      "Other     16751\n",
      "Male      16644\n",
      "Female    16605\n",
      "Name: count, dtype: int64\n"
     ]
    }
   ],
   "source": [
    "#Inspect Gender column- unique values \n",
    "print(walmart_df['Gender'].unique())\n",
    "#Gender unique value count\n",
    "print(walmart_df['Gender'].nunique())\n",
    "#Count unique values in 'Gender' column\n",
    "print(walmart_df['Gender'].value_counts())"
   ]
  },
  {
   "cell_type": "markdown",
   "id": "5cd7138c-ad92-48c7-a925-79c86d60ec66",
   "metadata": {},
   "source": [
    "All the values appear to be valid, so the <b>Gender</b> column does not require any cleaning."
   ]
  },
  {
   "cell_type": "markdown",
   "id": "c334789e-d0a1-4849-8c1e-2dd358ba9e49",
   "metadata": {},
   "source": [
    "<h5><b>Inspect City column</b></h5>"
   ]
  },
  {
   "cell_type": "code",
   "execution_count": 1885,
   "id": "c8fc93b7-b2cd-4cac-ba8c-8ab008f1f0e2",
   "metadata": {},
   "outputs": [
    {
     "name": "stdout",
     "output_type": "stream",
     "text": [
      "['New Cynthia' 'Cruzport' 'Jeffreytown' ... 'West Marc' 'Nashside'\n",
      " 'Troyshire']\n",
      "25096\n",
      "City\n",
      "New Michael           44\n",
      "North Michael         42\n",
      "Lake Michael          41\n",
      "East Michael          36\n",
      "South Michael         34\n",
      "                      ..\n",
      "South Eduardoburgh     1\n",
      "South Zacharymouth     1\n",
      "Jeanettemouth          1\n",
      "Gentryberg             1\n",
      "Troyshire              1\n",
      "Name: count, Length: 25096, dtype: int64\n"
     ]
    }
   ],
   "source": [
    "#Inspect City column- unique values \n",
    "print(walmart_df['City'].unique())\n",
    "#Gender unique value count\n",
    "print(walmart_df['City'].nunique())\n",
    "#Count unique values in 'Gender' column\n",
    "print(walmart_df['City'].value_counts())"
   ]
  },
  {
   "cell_type": "markdown",
   "id": "b9fdf8b5-520f-422d-b1ff-9f739e85eda2",
   "metadata": {},
   "source": [
    "All the values appear to be valid, so the <b>City</b> column does not require any cleaning."
   ]
  },
  {
   "cell_type": "markdown",
   "id": "98c21095-01a7-42fd-be68-e719163f8e08",
   "metadata": {},
   "source": [
    "<h5><b>Inspect Category column</b></h5>"
   ]
  },
  {
   "cell_type": "code",
   "execution_count": 1888,
   "id": "2344e413-27b3-48fe-9b27-f7428e4e8989",
   "metadata": {},
   "outputs": [
    {
     "name": "stdout",
     "output_type": "stream",
     "text": [
      "['Electronics' 'Clothing' 'Beauty' 'Home']\n",
      "4\n",
      "Category\n",
      "Electronics    12642\n",
      "Home           12492\n",
      "Beauty         12447\n",
      "Clothing       12419\n",
      "Name: count, dtype: int64\n"
     ]
    }
   ],
   "source": [
    "#Inspect Category column- unique values \n",
    "print(walmart_df['Category'].unique())\n",
    "#Category unique value count\n",
    "print(walmart_df['Category'].nunique())\n",
    "#Count unique values in 'Category' column\n",
    "print(walmart_df['Category'].value_counts())"
   ]
  },
  {
   "cell_type": "markdown",
   "id": "389ade64-f22a-40d2-8ce0-455b86e581cb",
   "metadata": {},
   "source": [
    "All the values appear to be valid, so the <b>Category</b> column does not require any cleaning."
   ]
  },
  {
   "cell_type": "markdown",
   "id": "d7d71ba9-9b98-481e-85e4-ea3ca6d29f91",
   "metadata": {},
   "source": [
    "<h5><b>Inspect Purchase_Date column</b></h5>"
   ]
  },
  {
   "cell_type": "code",
   "execution_count": 1891,
   "id": "95d25910-883e-454a-afbb-e629c7623c57",
   "metadata": {},
   "outputs": [
    {
     "name": "stdout",
     "output_type": "stream",
     "text": [
      "['2024-08-30' '2024-12-21' '2024-12-26' '2024-11-04' '2024-10-07'\n",
      " '2024-02-15' '2024-12-19' '2024-09-28' '2025-01-30' '2024-12-23'\n",
      " '2024-12-12' '2024-11-30' '2024-09-05' '2025-02-08' '2024-08-03'\n",
      " '2024-07-26' '2024-03-29' '2024-07-29' '2024-08-22' '2024-08-26'\n",
      " '2024-04-16' '2024-08-20' '2024-03-16' '2025-01-25' '2024-04-25'\n",
      " '2024-10-20' '2024-08-25' '2024-12-28' '2025-01-11' '2024-10-27'\n",
      " '2024-09-27' '2024-11-06' '2024-11-01' '2024-03-11' '2025-01-17'\n",
      " '2024-07-11' '2024-02-20' '2024-02-16' '2024-10-25' '2024-10-18'\n",
      " '2024-02-27' '2024-05-08' '2024-06-15' '2024-04-11' '2024-12-31'\n",
      " '2024-11-08' '2024-07-07' '2024-08-27' '2024-04-09' '2024-02-21'\n",
      " '2024-05-27' '2025-02-06' '2024-07-15' '2024-06-04' '2024-12-14'\n",
      " '2024-03-30' '2024-03-21' '2024-02-26' '2024-11-20' '2024-04-15'\n",
      " '2025-01-26' '2024-05-13' '2024-05-21' '2024-02-10' '2024-09-19'\n",
      " '2024-04-08' '2024-02-23' '2024-03-06' '2024-06-17' '2024-06-25'\n",
      " '2024-06-27' '2024-08-10' '2024-12-20' '2024-02-11' '2024-06-16'\n",
      " '2024-05-20' '2024-07-31' '2024-09-25' '2025-01-23' '2024-11-23'\n",
      " '2024-06-08' '2024-07-21' '2024-10-28' '2024-03-19' '2024-11-15'\n",
      " '2024-07-05' '2024-08-05' '2024-07-12' '2024-04-12' '2024-08-24'\n",
      " '2024-07-14' '2024-10-08' '2024-04-10' '2025-02-09' '2024-05-24'\n",
      " '2024-09-24' '2024-10-15' '2024-11-22' '2024-07-23' '2024-05-17'\n",
      " '2024-05-07' '2024-10-13' '2025-01-28' '2024-11-14' '2024-06-29'\n",
      " '2024-08-04' '2025-01-13' '2024-10-11' '2024-09-03' '2024-07-16'\n",
      " '2024-12-01' '2024-04-24' '2024-12-25' '2024-05-25' '2024-08-14'\n",
      " '2024-10-09' '2024-12-16' '2024-03-10' '2024-11-09' '2024-03-18'\n",
      " '2024-02-25' '2024-09-14' '2024-04-22' '2024-05-10' '2024-07-13'\n",
      " '2024-12-05' '2024-07-01' '2024-03-02' '2025-02-01' '2024-07-03'\n",
      " '2024-03-22' '2025-01-07' '2024-09-29' '2024-10-24' '2024-10-10'\n",
      " '2024-05-26' '2024-04-21' '2024-07-17' '2024-05-11' '2024-02-19'\n",
      " '2024-04-29' '2024-06-21' '2025-02-05' '2024-11-18' '2024-09-12'\n",
      " '2025-01-04' '2024-11-11' '2024-03-05' '2024-11-28' '2024-10-29'\n",
      " '2024-11-21' '2024-11-24' '2024-03-31' '2025-01-08' '2024-06-28'\n",
      " '2024-03-08' '2024-03-14' '2024-11-26' '2024-08-19' '2024-12-17'\n",
      " '2024-07-20' '2024-05-01' '2024-03-24' '2024-12-18' '2024-07-30'\n",
      " '2024-03-15' '2024-06-07' '2024-10-26' '2024-04-13' '2024-06-30'\n",
      " '2024-09-20' '2024-12-09' '2024-11-25' '2024-06-22' '2024-02-12'\n",
      " '2024-08-13' '2025-01-02' '2025-01-31' '2025-01-10' '2024-02-24'\n",
      " '2024-05-12' '2024-07-04' '2025-01-16' '2024-10-19' '2024-08-07'\n",
      " '2024-08-16' '2024-04-17' '2024-10-16' '2024-06-13' '2024-03-26'\n",
      " '2024-02-18' '2024-06-24' '2024-11-02' '2024-12-10' '2024-05-15'\n",
      " '2025-02-02' '2024-09-04' '2024-09-11' '2024-05-02' '2024-05-14'\n",
      " '2024-08-17' '2024-03-03' '2025-02-04' '2024-05-19' '2024-09-06'\n",
      " '2024-08-09' '2024-08-31' '2024-05-30' '2024-04-27' '2024-12-30'\n",
      " '2024-04-18' '2024-06-20' '2024-03-12' '2024-10-21' '2024-12-11'\n",
      " '2024-04-01' '2024-06-03' '2024-12-07' '2025-01-14' '2024-07-10'\n",
      " '2024-07-27' '2024-11-17' '2024-12-24' '2024-07-02' '2024-02-28'\n",
      " '2024-05-16' '2024-04-30' '2024-04-20' '2024-11-10' '2024-11-12'\n",
      " '2024-03-25' '2024-07-24' '2024-12-04' '2024-08-11' '2024-03-09'\n",
      " '2024-12-15' '2024-10-30' '2024-04-03' '2024-10-23' '2024-04-14'\n",
      " '2024-07-09' '2024-11-29' '2024-09-15' '2024-11-27' '2024-12-08'\n",
      " '2025-01-27' '2024-07-18' '2024-05-18' '2024-10-01' '2024-04-02'\n",
      " '2024-02-13' '2025-01-15' '2024-03-01' '2024-09-26' '2024-08-01'\n",
      " '2024-06-02' '2025-01-20' '2024-08-08' '2025-01-18' '2024-05-03'\n",
      " '2024-10-17' '2024-05-28' '2024-07-08' '2024-03-17' '2024-12-03'\n",
      " '2024-11-19' '2024-08-15' '2024-11-05' '2024-09-09' '2025-01-21'\n",
      " '2024-09-17' '2025-01-24' '2024-02-17' '2024-11-13' '2024-06-09'\n",
      " '2024-12-22' '2024-06-14' '2024-12-13' '2024-08-18' '2025-01-01'\n",
      " '2024-04-06' '2024-07-19' '2024-04-23' '2024-10-04' '2024-09-08'\n",
      " '2024-06-06' '2024-08-12' '2024-07-25' '2024-05-09' '2024-10-02'\n",
      " '2024-05-04' '2024-02-14' '2025-01-05' '2024-09-18' '2024-12-27'\n",
      " '2024-09-10' '2024-08-29' '2024-06-05' '2024-05-05' '2025-01-06'\n",
      " '2025-01-19' '2024-06-18' '2024-05-22' '2024-10-22' '2024-04-28'\n",
      " '2025-02-07' '2024-03-23' '2024-04-26' '2024-11-03' '2024-07-22'\n",
      " '2024-09-30' '2024-04-19' '2024-07-06' '2024-08-06' '2024-12-02'\n",
      " '2025-01-12' '2024-03-07' '2024-09-01' '2024-09-02' '2024-08-02'\n",
      " '2024-04-05' '2024-11-07' '2024-03-20' '2024-06-23' '2024-03-27'\n",
      " '2024-07-28' '2024-06-01' '2024-03-28' '2024-04-04' '2024-06-12'\n",
      " '2025-01-29' '2024-03-13' '2024-06-26' '2024-06-10' '2024-10-14'\n",
      " '2024-10-05' '2024-09-21' '2024-02-22' '2025-01-03' '2024-04-07'\n",
      " '2024-09-13' '2024-10-12' '2025-02-03' '2024-08-28' '2024-03-04'\n",
      " '2024-05-06' '2025-01-22' '2024-10-03' '2024-05-31' '2024-06-19'\n",
      " '2024-06-11' '2024-05-23' '2024-02-29' '2024-12-29' '2024-09-07'\n",
      " '2024-05-29' '2025-01-09' '2024-09-22' '2024-09-16' '2024-09-23'\n",
      " '2024-08-23' '2024-08-21' '2024-10-06' '2024-12-06' '2024-11-16'\n",
      " '2024-10-31']\n",
      "\n",
      "Total Unique:  366\n",
      "\n",
      " Purchase_Date\n",
      "2024-12-25    171\n",
      "2024-04-25    171\n",
      "2024-11-18    168\n",
      "2025-01-27    167\n",
      "2024-11-11    167\n",
      "             ... \n",
      "2024-11-28    114\n",
      "2024-05-13    113\n",
      "2024-09-21    113\n",
      "2024-10-01    113\n",
      "2024-12-05    106\n",
      "Name: count, Length: 366, dtype: int64\n"
     ]
    }
   ],
   "source": [
    "\n",
    "#Inspect Purchase_Date column- unique values \n",
    "print(walmart_df['Purchase_Date'].unique())\n",
    "\n",
    "#Purchase_Date unique value count\n",
    "print(\"\\nTotal Unique: \",walmart_df['Purchase_Date'].nunique())\n",
    "#Count unique values in 'Purchase_Date' column\n",
    "print(\"\\n\",walmart_df['Purchase_Date'].value_counts())\n"
   ]
  },
  {
   "cell_type": "markdown",
   "id": "24ed2ea1-2aa5-4c1d-9498-de73193a7e8b",
   "metadata": {},
   "source": [
    "All the values appear to be valid, so the <b>Purchase_Date</b> column does not require any cleaning."
   ]
  },
  {
   "cell_type": "markdown",
   "id": "c184bfb2-4e38-4572-aff2-d326b855ac2d",
   "metadata": {},
   "source": [
    "<h5><b>Inspect Purchase_Amount column</b></h5>"
   ]
  },
  {
   "cell_type": "code",
   "execution_count": 1894,
   "id": "a8fc7378-fbd5-4811-b964-1dc6bd41fd9c",
   "metadata": {},
   "outputs": [
    {
     "name": "stdout",
     "output_type": "stream",
     "text": [
      "[253.26  73.19 125.62 ... 432.21 367.52 391.48]\n",
      "\n",
      "Total Unique:  31378\n",
      "\n",
      " Purchase_Amount\n",
      "420.37    7\n",
      "58.13     7\n",
      "240.00    6\n",
      "253.31    6\n",
      "221.95    6\n",
      "         ..\n",
      "455.12    1\n",
      "340.73    1\n",
      "448.61    1\n",
      "305.00    1\n",
      "391.48    1\n",
      "Name: count, Length: 31378, dtype: int64\n"
     ]
    }
   ],
   "source": [
    "#Inspect Purchase_Amount column- unique values \n",
    "print(walmart_df['Purchase_Amount'].unique())\n",
    "#Purchase_Amount unique value count\n",
    "print(\"\\nTotal Unique: \",walmart_df['Purchase_Amount'].nunique())\n",
    "#Count unique values in 'Purchase_Amount' column\n",
    "print(\"\\n\",walmart_df['Purchase_Amount'].value_counts())"
   ]
  },
  {
   "cell_type": "markdown",
   "id": "b06b696c-118f-449a-a6d7-3ebe011e712e",
   "metadata": {},
   "source": [
    "All the values appear to be valid, so the <b>Purchase_Amount</b> column does not require any cleaning."
   ]
  },
  {
   "cell_type": "markdown",
   "id": "63603e26-e285-4b79-ab86-e3f10ce72468",
   "metadata": {},
   "source": [
    "<h5><b>Inspect Payment_Method column</b></h5>"
   ]
  },
  {
   "cell_type": "code",
   "execution_count": 1897,
   "id": "5e6ad25a-15b6-48aa-8595-323192c5af82",
   "metadata": {},
   "outputs": [
    {
     "name": "stdout",
     "output_type": "stream",
     "text": [
      "['Cash on Delivery' 'Debit Card' 'Credit Card' 'UPI']\n",
      "\n",
      "Total Unique:  4\n",
      "\n",
      " Payment_Method\n",
      "Debit Card          12589\n",
      "Credit Card         12528\n",
      "Cash on Delivery    12496\n",
      "UPI                 12387\n",
      "Name: count, dtype: int64\n"
     ]
    }
   ],
   "source": [
    "#Inspect Payment_Method column- unique values \n",
    "print(walmart_df['Payment_Method'].unique())\n",
    "#Payment_Method unique value count\n",
    "print(\"\\nTotal Unique: \",walmart_df['Payment_Method'].nunique())\n",
    "#Count unique values in 'Payment_Method' column\n",
    "print(\"\\n\",walmart_df['Payment_Method'].value_counts())\n"
   ]
  },
  {
   "cell_type": "markdown",
   "id": "248969a4-1106-47a1-8d02-aa8112a75b13",
   "metadata": {},
   "source": [
    "All the values appear to be valid, so the <b>Payment_Method</b> column does not require any cleaning."
   ]
  },
  {
   "cell_type": "markdown",
   "id": "6f14a36e-523d-4812-869f-a834ea39c3f1",
   "metadata": {},
   "source": [
    "<h5><b>Inspect Discount_Applied column</b></h5>"
   ]
  },
  {
   "cell_type": "code",
   "execution_count": 1900,
   "id": "efed81f8-f97b-47d8-a0a7-e75455675f4d",
   "metadata": {},
   "outputs": [
    {
     "name": "stdout",
     "output_type": "stream",
     "text": [
      "['No' 'Yes']\n",
      "\n",
      "Total Unique:  2\n",
      "\n",
      " Discount_Applied\n",
      "No     25018\n",
      "Yes    24982\n",
      "Name: count, dtype: int64\n"
     ]
    }
   ],
   "source": [
    "#Inspect Discount_Applied column- unique values \n",
    "print(walmart_df['Discount_Applied'].unique())\n",
    "#Discount_Applied unique value count\n",
    "print(\"\\nTotal Unique: \",walmart_df['Discount_Applied'].nunique())\n",
    "#Count unique values in 'Discount_Applied' column\n",
    "print(\"\\n\",walmart_df['Discount_Applied'].value_counts())"
   ]
  },
  {
   "cell_type": "markdown",
   "id": "648cd2a7-e7d9-4635-92d5-ef56def2bb8c",
   "metadata": {},
   "source": [
    "All the values appear to be valid, so the <b>Discount_Applied</b> column does not require any cleaning."
   ]
  },
  {
   "cell_type": "markdown",
   "id": "5cde1b09-2341-4c19-be98-175a91162e65",
   "metadata": {},
   "source": [
    "<h5><b>Inspect Rating column</b></h5>\n"
   ]
  },
  {
   "cell_type": "code",
   "execution_count": 1903,
   "id": "5218dfb8-4a4e-473b-bc52-bdb4f731f3cc",
   "metadata": {},
   "outputs": [
    {
     "name": "stdout",
     "output_type": "stream",
     "text": [
      "[1 2 3 4 5]\n",
      "\n",
      "Total Unique:  5\n",
      "\n",
      " Rating\n",
      "1    10099\n",
      "4    10045\n",
      "5    10029\n",
      "2     9971\n",
      "3     9856\n",
      "Name: count, dtype: int64\n"
     ]
    }
   ],
   "source": [
    "#Inspect Rating column- unique values \n",
    "print(walmart_df['Rating'].unique())\n",
    "#Rating unique value count\n",
    "print(\"\\nTotal Unique: \",walmart_df['Rating'].nunique())\n",
    "#Count unique values in 'Rating' column\n",
    "print(\"\\n\",walmart_df['Rating'].value_counts())"
   ]
  },
  {
   "cell_type": "markdown",
   "id": "f5432e4c-87a9-41d8-a33d-3352407f30e4",
   "metadata": {},
   "source": [
    "All the values appear to be valid, so the <b>Rating</b> column does not require any cleaning."
   ]
  },
  {
   "cell_type": "markdown",
   "id": "3163e697-f0fe-4046-8861-6f3a9a31452a",
   "metadata": {},
   "source": [
    "<h5><b>Inspect Repeat_Customer column</b></h5>"
   ]
  },
  {
   "cell_type": "code",
   "execution_count": 1906,
   "id": "9bacfd76-d836-4f3e-b98d-11cc962d2267",
   "metadata": {},
   "outputs": [
    {
     "name": "stdout",
     "output_type": "stream",
     "text": [
      "['Yes' 'No']\n",
      "\n",
      "Total Unique:  2\n",
      "\n",
      " Repeat_Customer\n",
      "Yes    25244\n",
      "No     24756\n",
      "Name: count, dtype: int64\n"
     ]
    }
   ],
   "source": [
    "#Inspect Repeat_Customer column- unique values \n",
    "print(walmart_df['Repeat_Customer'].unique())\n",
    "#Repeat_Customer unique value count\n",
    "print(\"\\nTotal Unique: \",walmart_df['Repeat_Customer'].nunique())\n",
    "#Count unique values in 'Repeat_Customer' column\n",
    "print(\"\\n\",walmart_df['Repeat_Customer'].value_counts())\n"
   ]
  },
  {
   "cell_type": "markdown",
   "id": "49221553-13e8-48de-bd97-2106a7bc03f5",
   "metadata": {},
   "source": [
    "All the values appear to be valid, so the <b>Repeat_Customer</b> column does not require any cleaning."
   ]
  },
  {
   "cell_type": "markdown",
   "id": "29ab908d-f5d0-48bb-b696-538fc9317324",
   "metadata": {},
   "source": [
    "<h5><b>Inspect Product_Name column</b></h5>"
   ]
  },
  {
   "cell_type": "code",
   "execution_count": 1909,
   "id": "99c9f8b7-202a-44bb-a05b-43b991c7cfa5",
   "metadata": {},
   "outputs": [
    {
     "name": "stdout",
     "output_type": "stream",
     "text": [
      "['Smartphone' 'T-Shirt' 'Perfume' 'Smartwatch' 'Laptop' 'Sofa Cover'\n",
      " 'Shampoo' 'Cookware' 'Curtains' 'Jeans' 'Headphones' 'Jacket'\n",
      " 'Face Cream' 'Lipstick' 'Lamp' 'Dress']\n",
      "\n",
      "Total Unique:  16\n",
      "\n",
      " Product_Name\n",
      "Headphones    3261\n",
      "T-Shirt       3206\n",
      "Smartwatch    3177\n",
      "Face Cream    3174\n",
      "Sofa Cover    3156\n",
      "Cookware      3155\n",
      "Shampoo       3145\n",
      "Lamp          3138\n",
      "Perfume       3116\n",
      "Laptop        3110\n",
      "Jacket        3105\n",
      "Smartphone    3094\n",
      "Jeans         3067\n",
      "Curtains      3043\n",
      "Dress         3041\n",
      "Lipstick      3012\n",
      "Name: count, dtype: int64\n"
     ]
    }
   ],
   "source": [
    "#Inspect Product_Name column- unique values \n",
    "print(walmart_df['Product_Name'].unique())\n",
    "#Product_Name unique value count\n",
    "print(\"\\nTotal Unique: \",walmart_df['Product_Name'].nunique())\n",
    "#Count unique values in 'Product_Name' column\n",
    "print(\"\\n\",walmart_df['Product_Name'].value_counts())"
   ]
  },
  {
   "cell_type": "markdown",
   "id": "79b71f64-80a2-4b20-b33b-a87bf72e19cf",
   "metadata": {},
   "source": [
    "All the values appear to be valid, so the <b>Product_Name</b> column does not require any cleaning."
   ]
  },
  {
   "cell_type": "code",
   "execution_count": null,
   "id": "82eb9e11-3fb7-4dc7-8cca-98c796237e09",
   "metadata": {},
   "outputs": [],
   "source": []
  },
  {
   "cell_type": "markdown",
   "id": "a515b48e-9b79-4b0e-90aa-afa6a3e92bad",
   "metadata": {},
   "source": [
    "Check for duplicate records"
   ]
  },
  {
   "cell_type": "code",
   "execution_count": null,
   "id": "9eddcaf7-0da0-49bb-aa03-12ba01136d39",
   "metadata": {},
   "outputs": [],
   "source": []
  },
  {
   "cell_type": "code",
   "execution_count": null,
   "id": "3466b2db-f868-40e2-b979-74159e5f9475",
   "metadata": {},
   "outputs": [],
   "source": []
  },
  {
   "cell_type": "code",
   "execution_count": 1912,
   "id": "6aa29fc0-066a-4ef2-a972-6e36c53a7fb0",
   "metadata": {},
   "outputs": [
    {
     "data": {
      "text/plain": [
       "0"
      ]
     },
     "execution_count": 1912,
     "metadata": {},
     "output_type": "execute_result"
    }
   ],
   "source": [
    "#Count duplicate rows\n",
    "walmart_df.duplicated().sum()"
   ]
  },
  {
   "cell_type": "markdown",
   "id": "06025e07-4872-425d-8474-1ff817084b7f",
   "metadata": {},
   "source": [
    "<h4><b></b>The data is already clean , no missing value and no duplicate records, so no further cleaning is required.</b></h4>"
   ]
  },
  {
   "cell_type": "code",
   "execution_count": null,
   "id": "86495477-cacf-4748-a7c6-bc4c6429c46a",
   "metadata": {},
   "outputs": [],
   "source": []
  },
  {
   "cell_type": "code",
   "execution_count": null,
   "id": "ccab7125-ebc2-4cc9-a791-cb3f762901fb",
   "metadata": {},
   "outputs": [],
   "source": []
  }
 ],
 "metadata": {
  "kernelspec": {
   "display_name": "Python [conda env:base] *",
   "language": "python",
   "name": "conda-base-py"
  },
  "language_info": {
   "codemirror_mode": {
    "name": "ipython",
    "version": 3
   },
   "file_extension": ".py",
   "mimetype": "text/x-python",
   "name": "python",
   "nbconvert_exporter": "python",
   "pygments_lexer": "ipython3",
   "version": "3.12.7"
  }
 },
 "nbformat": 4,
 "nbformat_minor": 5
}
